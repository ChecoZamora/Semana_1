{
  "cells": [
    {
      "cell_type": "code",
      "execution_count": null,
      "id": "5abcb287",
      "metadata": {
        "id": "5abcb287",
        "outputId": "8c61def8-da87-4d81-f000-e341a0b89279"
      },
      "outputs": [
        {
          "name": "stdout",
          "output_type": "stream",
          "text": [
            "Mi nombre es Serio Zamora\n"
          ]
        }
      ],
      "source": [
        "print(\"Mi nombre es Sergio\")"
      ]
    },
    {
      "cell_type": "code",
      "execution_count": null,
      "id": "33c193cb",
      "metadata": {
        "id": "33c193cb",
        "outputId": "4972e91e-ba89-4448-e009-1449bd503552"
      },
      "outputs": [
        {
          "name": "stdout",
          "output_type": "stream",
          "text": [
            "Frase\n"
          ]
        }
      ],
      "source": [
        "print(\"Frase\")"
      ]
    },
    {
      "cell_type": "code",
      "execution_count": null,
      "id": "f5326ecb",
      "metadata": {
        "id": "f5326ecb",
        "outputId": "11443f70-d34c-4887-c854-db8d3c3f7492"
      },
      "outputs": [
        {
          "name": "stdout",
          "output_type": "stream",
          "text": [
            "Hola Mundo!\n"
          ]
        }
      ],
      "source": [
        "a = \"Hola Mundo!\"\n",
        "print(a)"
      ]
    },
    {
      "cell_type": "code",
      "execution_count": 1,
      "id": "1095fa22",
      "metadata": {
        "id": "1095fa22",
        "outputId": "5c9c2a03-686b-4c39-885b-177d2cf7425d",
        "colab": {
          "base_uri": "https://localhost:8080/"
        }
      },
      "outputs": [
        {
          "output_type": "stream",
          "name": "stdout",
          "text": [
            "yes\n"
          ]
        }
      ],
      "source": [
        "print(\"yes\")"
      ]
    },
    {
      "cell_type": "code",
      "source": [],
      "metadata": {
        "id": "zxZi2-mPH8PO"
      },
      "id": "zxZi2-mPH8PO",
      "execution_count": null,
      "outputs": []
    }
  ],
  "metadata": {
    "kernelspec": {
      "display_name": "Python 3 (ipykernel)",
      "language": "python",
      "name": "python3"
    },
    "language_info": {
      "codemirror_mode": {
        "name": "ipython",
        "version": 3
      },
      "file_extension": ".py",
      "mimetype": "text/x-python",
      "name": "python",
      "nbconvert_exporter": "python",
      "pygments_lexer": "ipython3",
      "version": "3.9.12"
    },
    "colab": {
      "provenance": []
    }
  },
  "nbformat": 4,
  "nbformat_minor": 5
}