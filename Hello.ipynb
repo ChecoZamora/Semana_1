{
 "cells": [
  {
   "cell_type": "code",
   "execution_count": 1,
   "id": "8c52332a",
   "metadata": {},
   "outputs": [
    {
     "name": "stdout",
     "output_type": "stream",
     "text": [
      "Hola Mundo!\n"
     ]
    }
   ],
   "source": [
    "a = \"Hola Mundo!\"\n",
    "print(a)"
   ]
  },
  {
   "cell_type": "code",
   "execution_count": 3,
   "id": "5a1ea8de",
   "metadata": {},
   "outputs": [
    {
     "name": "stdout",
     "output_type": "stream",
     "text": [
      "('Texto', 3, 1.5, False)\n"
     ]
    }
   ],
   "source": [
    "# Recordemos los tipos de datos básicos que existen en Python\n",
    "# Existen los Strings(str), que son texto contenido entre comillas “ “\n",
    "String = \"Texto\"\n",
    "\n",
    "# Los enteros(int), que como su nombre lo dice, son números positivos o negativos sin decimales\n",
    "Integer = 3\n",
    "\n",
    "# Los flotantes(float), que son números reales con decimales\n",
    "Float = 1.5\n",
    "\n",
    "# Los booleanos(bool), que son datos categóricos SI o NO, 1 o 0, VERDADERO o FALSO\n",
    "Boolean = False\n",
    "\n",
    "# Recordemos que las tuplas, son colecciones ordenadas e inmutables, y podrás reconocerlas por estar contenidas entre paréntesis ( )\n",
    "Mi_tupla = ( String, Integer, Float, Boolean)\n",
    "print(Mi_tupla)"
   ]
  },
  {
   "cell_type": "code",
   "execution_count": 4,
   "id": "2b9e940e",
   "metadata": {},
   "outputs": [
    {
     "name": "stdout",
     "output_type": "stream",
     "text": [
      "[1, 2, 3]\n"
     ]
    }
   ],
   "source": [
    "lista = [1, 2, 3]\n",
    "print(lista)"
   ]
  },
  {
   "cell_type": "code",
   "execution_count": 5,
   "id": "53ee9b54",
   "metadata": {},
   "outputs": [
    {
     "name": "stdout",
     "output_type": "stream",
     "text": [
      "['Texto', 3, 1.5, False]\n"
     ]
    }
   ],
   "source": [
    "Mi_lista = list(Mi_tupla)\n",
    "print(Mi_lista)"
   ]
  },
  {
   "cell_type": "code",
   "execution_count": 13,
   "id": "49dd6bdf",
   "metadata": {},
   "outputs": [
    {
     "name": "stdout",
     "output_type": "stream",
     "text": [
      "Ingresa los números a evaluar\n",
      "Ingresa el primer número1\n",
      "Ingresa el segundo número2\n",
      "La suma de los valores es:  3\n",
      "La división de los valores es:  0.5\n"
     ]
    }
   ],
   "source": [
    "\n",
    "# Creamos la clase\n",
    "class Calculadora:\n",
    "\t# Inicializamos los valores a trabajar\n",
    "\tdef __init__(self, valor_1, valor_2):\n",
    "\t\tself.valor_1 = valor_1\n",
    "\t\tself.valor_2 = valor_2\n",
    "\n",
    "\t# Definimos el método para sumar\n",
    "\tdef suma(self):\n",
    "\t\treturn self.valor_1 + self.valor_2\n",
    "\n",
    "\t# Para definir la resta y multiplicación solo hay que modificar el signo …\n",
    "\n",
    "\t# Ahora definamos la función para la división haciendo uso de if\n",
    "\tdef division(self):\n",
    "\t\t# Si el valor de valor_2, que será nuestro denominador es diferente que 0, podemos realizar la división, sino el resultado será indefinido\n",
    "\t# Usar != Significa lo mismo que “Diferente que”\n",
    "\t\tif self.valor_2 != 0:\n",
    "\t\t\treturn self.valor_1 / self.valor_2\n",
    "\t\telse:\n",
    "\t\t\treturn \"El resultado de esta división es indefinido\"\n",
    "\n",
    "# Ahora permitamos al usuario ingresar los valores a evaluar\n",
    "print(\"Ingresa los números a evaluar\")\n",
    "valor_1 = int(input(\"Ingresa el primer número\"))\n",
    "valor_2 = int(input(\"Ingresa el segundo número\"))\n",
    "\n",
    "# Pasemos los valores ingresados a nuestra clase\n",
    "calc = Calculadora(valor_1, valor_2)\n",
    "\n",
    "# Usemos los métodos que creamos, para obtener los resultados\n",
    "print(\"La suma de los valores es: \", calc.suma())\n",
    "print(\"La división de los valores es: \", calc.division())\n"
   ]
  },
  {
   "cell_type": "code",
   "execution_count": 18,
   "id": "fa10d326",
   "metadata": {},
   "outputs": [
    {
     "name": "stdout",
     "output_type": "stream",
     "text": [
      "Berlin\n"
     ]
    }
   ],
   "source": [
    "dic = {\"Alemania\":\"Berlin\"}\n",
    "print(dic[\"Alemania\"])"
   ]
  },
  {
   "cell_type": "code",
   "execution_count": null,
   "id": "f14f1e0c",
   "metadata": {},
   "outputs": [],
   "source": [
    "for i in len(Mi_lista):\n",
    "    "
   ]
  },
  {
   "cell_type": "code",
   "execution_count": 1,
   "id": "77515385",
   "metadata": {},
   "outputs": [],
   "source": [
    "string = \"Texto\"\n",
    "Integer = 3\n",
    "Float = 1.5\n",
    "Boolean = False"
   ]
  },
  {
   "cell_type": "code",
   "execution_count": 2,
   "id": "52d83065",
   "metadata": {},
   "outputs": [
    {
     "name": "stdout",
     "output_type": "stream",
     "text": [
      "('Texto', 3, 1.5, False)\n"
     ]
    }
   ],
   "source": [
    "Mi_tupla = (string, Integer, Float, Boolean)\n",
    "print(Mi_tupla)"
   ]
  },
  {
   "cell_type": "code",
   "execution_count": null,
   "id": "9e321d9d",
   "metadata": {},
   "outputs": [],
   "source": []
  }
 ],
 "metadata": {
  "kernelspec": {
   "display_name": "Python 3 (ipykernel)",
   "language": "python",
   "name": "python3"
  },
  "language_info": {
   "codemirror_mode": {
    "name": "ipython",
    "version": 3
   },
   "file_extension": ".py",
   "mimetype": "text/x-python",
   "name": "python",
   "nbconvert_exporter": "python",
   "pygments_lexer": "ipython3",
   "version": "3.9.12"
  }
 },
 "nbformat": 4,
 "nbformat_minor": 5
}
